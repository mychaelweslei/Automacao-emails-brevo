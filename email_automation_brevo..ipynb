{
 "cells": [
  {
   "cell_type": "markdown",
   "id": "a6d6cf31",
   "metadata": {},
   "source": [
    "\"Automação de Envio de E-mails com Brevo (Sendinblue)\"\n",
    "\n"
   ]
  },
  {
   "cell_type": "markdown",
   "id": "ff814f41",
   "metadata": {},
   "source": [
    "1. Importação das Bibliotecas\n"
   ]
  },
  {
   "cell_type": "code",
   "execution_count": 74,
   "id": "6e1ac99e",
   "metadata": {},
   "outputs": [],
   "source": [
    "import smtplib\n",
    "from email.mime.multipart import MIMEMultipart\n",
    "from email.mime.text import MIMEText\n"
   ]
  },
  {
   "cell_type": "markdown",
   "id": "9fd6c4b9",
   "metadata": {},
   "source": [
    "2. Configurações do Servidor SMTP\n"
   ]
  },
  {
   "cell_type": "code",
   "execution_count": 3,
   "id": "462d907a",
   "metadata": {},
   "outputs": [],
   "source": [
    "# Configurações do servidor SMTP\n",
    "smtp_server = \"smtp-relay.brevo.com\"\n",
    "smtp_port = 587\n",
    "smtp_user = \"8b7855001@smtp-brevo.com\"  # Seu login SMTP\n",
    "smtp_password = \"A7Rvnat8sKC3h4jH\"  # Sua senha mestre real (não compartilhe em público)\n"
   ]
  },
  {
   "cell_type": "markdown",
   "id": "e777bc4f",
   "metadata": {},
   "source": [
    "3. Configurações do E-mail (Remetente, Destinatário, Assunto e Corpo)\n"
   ]
  },
  {
   "cell_type": "code",
   "execution_count": 7,
   "id": "2363de07",
   "metadata": {},
   "outputs": [],
   "source": [
    "# Configurações do e-mail\n",
    "sender_email = \"mychaelweslei725@gmail.com\"  # Seu e-mail (remetente)\n",
    "receiver_email = \"mychaelwesley725@gmail.com\"  # E-mail do destinatário\n",
    "subject = \"Teste de Envio de E-mail via SMTP\"\n",
    "body = \"\"\"\n",
    "<html>\n",
    "    <body>\n",
    "        <h1>Oi, minha linda Lívia! 💛</h1>\n",
    "        <p>Hoje eu queria te contar algo super especial... Consegui realizar uma grande conquista no meu aprendizado de programação, e eu não poderia deixar de compartilhar isso com você!</p>\n",
    "        <p>Com muito esforço e dedicação, eu consegui automatizar o envio de e-mails utilizando a API do Brevo. E sabe o que é mais legal? Eu fiz tudo isso pensando em como eu poderia sempre melhorar e trazer mais coisas boas para nossa vida. Isso é só o começo de tudo que posso conquistar.</p>\n",
    "        <p>Mas a maior conquista de todas é ter você ao meu lado, com seu sorriso radiante e seus cachinhos dourados que fazem meu coração bater mais rápido. 💛</p>\n",
    "        <p>Te amo mais do que palavras podem expressar, e mesmo que eu tenha conquistado algo com a programação, cada segundo ao seu lado vale muito mais. Vou continuar a aprender para sempre poder te surpreender e te fazer sorrir!</p>\n",
    "        <p>Com muito amor,</p>\n",
    "        <p><strong>Seu namorado, Wesley 💖</strong></p>\n",
    "    </body>\n",
    "</html>\n",
    "\n",
    "\n",
    "\n",
    "\"\"\"\n"
   ]
  },
  {
   "cell_type": "markdown",
   "id": "502ce798",
   "metadata": {},
   "source": [
    "4. Construção do Objeto MIME para o E-mail\n"
   ]
  },
  {
   "cell_type": "code",
   "execution_count": 77,
   "id": "cc55fcf2",
   "metadata": {},
   "outputs": [],
   "source": [
    "# Criação do objeto MIME para o e-mail\n",
    "msg = MIMEMultipart()\n",
    "msg['From'] = sender_email\n",
    "msg['To'] = receiver_email\n",
    "msg['Subject'] = subject\n",
    "msg.attach(MIMEText(body, 'html'))  # Corpo do e-mail em HTML\n"
   ]
  },
  {
   "cell_type": "markdown",
   "id": "6c92f983",
   "metadata": {},
   "source": [
    "5. Conexão com o Servidor SMTP e Envio do E-mail\n"
   ]
  },
  {
   "cell_type": "code",
   "execution_count": 78,
   "id": "bca9a828",
   "metadata": {},
   "outputs": [
    {
     "name": "stdout",
     "output_type": "stream",
     "text": [
      "E-mail enviado com sucesso!\n"
     ]
    }
   ],
   "source": [
    "# Conectando ao servidor SMTP e enviando o e-mail\n",
    "try:\n",
    "    # Conectando ao servidor SMTP\n",
    "    server = smtplib.SMTP(smtp_server, smtp_port)\n",
    "    server.starttls()  # Usando TLS para segurança\n",
    "    server.login(smtp_user, smtp_password)  # Realizando login com a senha mestre\n",
    "    text = msg.as_string()  # Convertendo o e-mail para formato string\n",
    "    server.sendmail(sender_email, receiver_email, text)  # Enviando o e-mail\n",
    "    print(\"E-mail enviado com sucesso!\")  # Mensagem de sucesso\n",
    "except smtplib.SMTPAuthenticationError as e:\n",
    "    print(f\"Erro de autenticação ao enviar o e-mail: {e}\")\n",
    "except Exception as e:\n",
    "    print(f\"Erro ao enviar o e-mail: {e}\")\n",
    "finally:\n",
    "    server.quit()  # Fechando a conexão com o servidor SMTP\n"
   ]
  },
  {
   "cell_type": "markdown",
   "id": "d4ef04c6",
   "metadata": {},
   "source": [
    "1. Agendamento Dinâmico de E-mails\n"
   ]
  },
  {
   "cell_type": "code",
   "execution_count": null,
   "id": "91700924",
   "metadata": {},
   "outputs": [],
   "source": [
    "from datetime import datetime\n",
    "\n",
    "# Entrada para data e hora do envio\n",
    "scheduled_time = input(\"Digite a data e hora para enviar o e-mail (formato: YYYY-MM-DD HH:MM:SS): \")\n",
    "\n",
    "# Convertendo para o formato datetime\n",
    "scheduled_datetime = datetime.strptime(scheduled_time, \"%Y-%m-%d %H:%M:%S\")\n",
    "\n",
    "# Verifica se já passou o horário de envio\n",
    "if scheduled_datetime < datetime.now():\n",
    "    print(\"Erro: O horário inserido já passou. Tente novamente.\")\n",
    "else:\n",
    "    # Agendar envio, exibir a data/hora\n",
    "    print(f\"E-mail agendado para: {scheduled_datetime}\")\n"
   ]
  },
  {
   "cell_type": "markdown",
   "id": "98fb8649",
   "metadata": {},
   "source": [
    "2. Enviar para Múltiplos Destinatários\n"
   ]
  },
  {
   "cell_type": "code",
   "execution_count": null,
   "id": "bf29ed4a",
   "metadata": {},
   "outputs": [],
   "source": [
    "# Lista de destinatários\n",
    "receivers = [\"email1@example.com\", \"email2@example.com\", \"email3@example.com\"]\n",
    "\n",
    "# Enviar o e-mail para todos da lista\n",
    "to = [SendSmtpEmailTo(email=email) for email in receivers]\n",
    "\n",
    "# Criação do e-mail e envio para todos\n",
    "send_smtp_email = SendSmtpEmail(\n",
    "    sender=sender,\n",
    "    to=to,\n",
    "    subject=subject,\n",
    "    html_content=html_content\n",
    ")\n",
    "\n",
    "# Enviar o e-mail\n",
    "api_response = api_instance.send_transac_email(send_smtp_email)\n"
   ]
  },
  {
   "cell_type": "markdown",
   "id": "12b0aa1a",
   "metadata": {},
   "source": [
    "3. Adicionar Arquivos Anexos\n"
   ]
  },
  {
   "cell_type": "code",
   "execution_count": null,
   "id": "769fc22e",
   "metadata": {},
   "outputs": [],
   "source": [
    "from email.mime.base import MIMEBase\n",
    "from email import encoders\n",
    "\n",
    "# Anexar um arquivo\n",
    "filename = \"relatorio.pdf\"  # Caminho do arquivo\n",
    "attachment = open(filename, \"rb\")  # Abrindo o arquivo\n",
    "\n",
    "part = MIMEBase(\"application\", \"octet-stream\")\n",
    "part.set_payload(attachment.read())\n",
    "encoders.encode_base64(part)\n",
    "part.add_header(\"Content-Disposition\", f\"attachment; filename={filename}\")\n",
    "\n",
    "# Adicionando o anexo ao e-mail\n",
    "msg.attach(part)\n"
   ]
  },
  {
   "cell_type": "markdown",
   "id": "cd194112",
   "metadata": {},
   "source": [
    "4. Logs e Histórico de Envio de E-mails\n"
   ]
  },
  {
   "cell_type": "code",
   "execution_count": null,
   "id": "c1e40ea1",
   "metadata": {},
   "outputs": [],
   "source": [
    "import logging\n",
    "\n",
    "# Configurando o logger para gravar os logs em um arquivo\n",
    "logging.basicConfig(filename=\"email_logs.txt\", level=logging.INFO)\n",
    "\n",
    "# Quando um e-mail for enviado com sucesso, registre o evento\n",
    "logging.info(f\"E-mail enviado para {receiver_email} com assunto: {subject} em {datetime.now()}\")\n"
   ]
  },
  {
   "cell_type": "markdown",
   "id": "959ac1d5",
   "metadata": {},
   "source": [
    "5. Envio em Lote com Delay Personalizado\n"
   ]
  },
  {
   "cell_type": "code",
   "execution_count": null,
   "id": "d64180da",
   "metadata": {},
   "outputs": [],
   "source": [
    "import time\n",
    "\n",
    "# Lista de destinatários\n",
    "receivers = [\"email1@example.com\", \"email2@example.com\", \"email3@example.com\"]\n",
    "\n",
    "for receiver in receivers:\n",
    "    # Enviar e-mail\n",
    "    server.sendmail(sender_email, receiver, text)\n",
    "    print(f\"E-mail enviado para {receiver}\")\n",
    "    time.sleep(5)  # Espera 5 segundos entre os envios\n"
   ]
  },
  {
   "cell_type": "markdown",
   "id": "307d3bec",
   "metadata": {},
   "source": [
    "6. Envio Personalizado com Templates\n"
   ]
  },
  {
   "cell_type": "code",
   "execution_count": null,
   "id": "e4b22374",
   "metadata": {},
   "outputs": [],
   "source": [
    "def gerar_email_promocional(nome_cliente, desconto):\n",
    "    subject = f\"Oferta Especial para {nome_cliente}!\"\n",
    "    body = f\"\"\"\n",
    "    <html>\n",
    "        <body>\n",
    "            <h1>Olá {nome_cliente},</h1>\n",
    "            <p>Temos uma oferta especial para você: {desconto}% de desconto em sua próxima compra!</p>\n",
    "            <p>Corra, a oferta é por tempo limitado!</p>\n",
    "        </body>\n",
    "    </html>\n",
    "    \"\"\"\n",
    "    return subject, body\n"
   ]
  },
  {
   "cell_type": "markdown",
   "id": "e059a4a3",
   "metadata": {},
   "source": [
    "Resumo das Melhorias Implementadas\n",
    "1.Agendamento dinâmico: Defina a data e hora do envio do e-mail.\n",
    "\n",
    "2.Envio para múltiplos destinatários: Envie e-mails para vários destinatários ao mesmo tempo.\n",
    "\n",
    "3.Anexos de e-mail: Envie arquivos anexos com os e-mails.\n",
    "\n",
    "4.Logs de envio: Mantenha um histórico de e-mails enviados.\n",
    "\n",
    "5.Envio em lote com delay: Envie vários e-mails com intervalos entre eles.\n",
    "\n",
    "6.Templates de e-mail: Crie templates reutilizáveis para diferentes tipos de e-mails.\n",
    "\n",
    "7.Rastreamento de abertura de e-mail: Acompanhe quando o destinatário abrir o e-mail.\n",
    "\n"
   ]
  }
 ],
 "metadata": {
  "kernelspec": {
   "display_name": "base",
   "language": "python",
   "name": "python3"
  },
  "language_info": {
   "codemirror_mode": {
    "name": "ipython",
    "version": 3
   },
   "file_extension": ".py",
   "mimetype": "text/x-python",
   "name": "python",
   "nbconvert_exporter": "python",
   "pygments_lexer": "ipython3",
   "version": "3.9.13"
  }
 },
 "nbformat": 4,
 "nbformat_minor": 5
}
